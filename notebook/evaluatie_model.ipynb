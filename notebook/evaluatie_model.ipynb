{
 "cells": [
  {
   "cell_type": "code",
   "execution_count": 5,
   "metadata": {},
   "outputs": [],
   "source": [
    "import sys\n",
    "sys.path.append(\"../\")\n",
    "\n",
    "import typing\n",
    "import csv\n",
    "import pathlib\n",
    "import random\n",
    "import time\n",
    "\n",
    "import numpy as np\n",
    "import numpy.typing as npt\n",
    "from IPython.display import display\n",
    "import pypdf\n",
    "\n",
    "from src.algorithm.clustering import ClusteringModel\n",
    "from src.algorithm.elbow import Elbow\n",
    "from src.types import CvLabelData\n",
    "import src.visualization as vis"
   ]
  },
  {
   "cell_type": "code",
   "execution_count": 6,
   "metadata": {},
   "outputs": [
    {
     "name": "stdout",
     "output_type": "stream",
     "text": [
      "Er zitten 116 CV's in /home/jimmy/school/jaar-1/blok-d/ipass-23-24/data/cv_pdf\n"
     ]
    }
   ],
   "source": [
    "cv_data_path = pathlib.Path(\"../data/cv_pdf\").resolve()\n",
    "data_count: int = len(list(cv_data_path.glob(\"*.pdf\")))\n",
    "\n",
    "print(\"Er zitten\", data_count, \"CV's in\", cv_data_path)"
   ]
  },
  {
   "cell_type": "code",
   "execution_count": 7,
   "metadata": {},
   "outputs": [
    {
     "name": "stdout",
     "output_type": "stream",
     "text": [
      "Databestand bestaat: True\n",
      "Er zijn 116 CV's gelabeld in de dataset.\n",
      "CV 77 heeft 2 kolom(men).\n"
     ]
    }
   ],
   "source": [
    "cv_label_data_path = pathlib.Path(\"../data/cv_cols.csv\").resolve()\n",
    "\n",
    "print(\"Databestand bestaat:\", cv_label_data_path.exists())\n",
    "\n",
    "cv_label_data: list[CvLabelData] = []\n",
    "\n",
    "csv_file: typing.TextIO\n",
    "with cv_label_data_path.open(\"r\") as csv_file:\n",
    "    csv_reader = csv.reader(csv_file)\n",
    "    next(csv_reader)\n",
    "\n",
    "    cv_label_data = [CvLabelData(*[int(col) for col in row]) for row in csv_reader]\n",
    "\n",
    "print(\"Er zijn\", len(cv_label_data), \"CV's gelabeld in de dataset.\")\n",
    "\n",
    "random_cv: int = random.randint(0, len(cv_label_data))\n",
    "print(\"CV\", cv_label_data[random_cv].cv_index, \"heeft\", cv_label_data[random_cv].num_cols, \"kolom(men).\")"
   ]
  },
  {
   "cell_type": "code",
   "execution_count": 8,
   "metadata": {},
   "outputs": [
    {
     "data": {
      "text/plain": [
       "\"100.0% van de CV's omgezet naar datapunten.\""
      ]
     },
     "metadata": {},
     "output_type": "display_data"
    },
    {
     "data": {
      "text/plain": [
       "'Klaar in 12.0 seconden.'"
      ]
     },
     "metadata": {},
     "output_type": "display_data"
    },
    {
     "data": {
      "text/plain": [
       "'De dataset neem ongeveer 1.08KB aan ruimte in.'"
      ]
     },
     "metadata": {},
     "output_type": "display_data"
    },
    {
     "name": "stderr",
     "output_type": "stream",
     "text": [
      "Ignoring wrong pointing object 6 0 (offset 0)\n",
      "Ignoring wrong pointing object 10 0 (offset 0)\n",
      "Ignoring wrong pointing object 12 0 (offset 0)\n",
      "Ignoring wrong pointing object 14 0 (offset 0)\n",
      "Ignoring wrong pointing object 16 0 (offset 0)\n",
      "Ignoring wrong pointing object 18 0 (offset 0)\n",
      "Ignoring wrong pointing object 20 0 (offset 0)\n",
      "Ignoring wrong pointing object 22 0 (offset 0)\n"
     ]
    }
   ],
   "source": [
    "character_position_data: list[list[tuple[int, int]]] = []\n",
    "\n",
    "display_handle_progress = display(\"0% van CV's omgezet naar datapunten.\", display_id=True)\n",
    "display_handle_time = display(display_id=True)\n",
    "display_handle_size = display(display_id=True)\n",
    "\n",
    "start_time = time.time()\n",
    "\n",
    "for i, cv in enumerate(cv_label_data):\n",
    "    cv_path = next(cv_data_path.glob(f\"cv-{cv.cv_index}-*.pdf\"))\n",
    "\n",
    "    pdf_reader = pypdf.PdfReader(cv_path)\n",
    "    page: pypdf.PageObject\n",
    "    pdf_text = \"\\n\".join([page.extract_text(extraction_mode=\"layout\") for page in pdf_reader.pages])\n",
    "\n",
    "    pdf_character_positions: list[tuple[int, int]] = []\n",
    "    for y, line in enumerate(pdf_text.splitlines()):\n",
    "        for x, char in enumerate(line):\n",
    "            if not char.isspace():\n",
    "                pdf_character_positions.append((x, y))\n",
    "\n",
    "    character_position_data.append(pdf_character_positions)\n",
    "    \n",
    "    display_handle_progress.update(f\"{round((i + 1) / data_count * 100, 0)}% van de CV's omgezet naar datapunten.\")  # type: ignore\n",
    "\n",
    "end_time = time.time()\n",
    "\n",
    "display_handle_time.update(f\"Klaar in {round(end_time - start_time, 1)} seconden.\")  # type: ignore\n",
    "\n",
    "dataset = character_position_data\n",
    "\n",
    "display_handle_size.update(f\"De dataset neem ongeveer {sys.getsizeof(dataset) / 1_000}KB aan ruimte in.\")  # type: ignore\n"
   ]
  },
  {
   "cell_type": "code",
   "execution_count": 9,
   "metadata": {},
   "outputs": [
    {
     "data": {
      "text/plain": [
       "'100.0% van de optimale clusters gevonden.'"
      ]
     },
     "metadata": {},
     "output_type": "display_data"
    },
    {
     "data": {
      "text/plain": [
       "'Verlopen tijd: 124.8s, gemiddelde duur: 1.1s'"
      ]
     },
     "metadata": {},
     "output_type": "display_data"
    }
   ],
   "source": [
    "estimated_num_cols: npt.NDArray[np.int64] = np.zeros(len(cv_label_data), np.int64)\n",
    "min_k, max_k = 1, 5\n",
    "\n",
    "display_handle_progress = display(f\"0% van de optimale clusters gevonden.\", display_id=True)\n",
    "display_handle_time = display(display_id=True)\n",
    "\n",
    "start_time = time.time()\n",
    "\n",
    "for i in range(len(estimated_num_cols)):\n",
    "    cv_data = np.array(dataset[i])\n",
    "    if len(cv_data) == 0:\n",
    "        continue\n",
    "\n",
    "    model = ClusteringModel(cv_data, 1, \"lloyds\")\n",
    "    elbow = Elbow(model, min_k, max_k, cv_data)\n",
    "    estimated_num_cols[i] = elbow.find_elbow()\n",
    "\n",
    "    display_handle_progress.update(f\"{round((i + 1) / data_count * 100, 0)}% van de optimale clusters gevonden.\")  # type: ignore\n",
    "    display_handle_time.update(f\"Verlopen tijd: {round(time.time() - start_time, 1)} seconden.\")  # type: ignore\n",
    "\n",
    "end_time = time.time()\n",
    "\n",
    "display_handle_time.update(f\"Verlopen tijd: {round(end_time - start_time, 1)}s, gemiddelde duur: {round((end_time - start_time) / data_count, 1)}s\")  # type: ignore"
   ]
  },
  {
   "cell_type": "code",
   "execution_count": 10,
   "metadata": {},
   "outputs": [
    {
     "name": "stdout",
     "output_type": "stream",
     "text": [
      "[1 1 1 1 1 1 1 2 1 1 1 1 1 1 1 1 1 1 1 1 1 1 1 1 1 1 1 1 1 2 1 1 1 1 1 0 1\n",
      " 1 1 2 1 1 1 1 1 1 2 1 2 1 1 0 2 1 1 2 1 1 1 1 1 0 1 1 1 1 1 2 1 1 1 1 1 1\n",
      " 1 1 1 1 1 2 2 1 1 1 1 1 1 1 1 1 1 1 1 1 0 1 1 2 2 1 1 1 1 1 1 1 1 1 1 2 1\n",
      " 1 1 1 1 1]\n"
     ]
    },
    {
     "data": {
      "text/plain": [
       "'Aantal correct: 17, aantal incorrect: 99, score: 14.66'"
      ]
     },
     "metadata": {},
     "output_type": "display_data"
    }
   ],
   "source": [
    "correctness_labels = [cv.num_cols == estimated_num_cols[i] for i, cv in enumerate(cv_label_data)]\n",
    "print(estimated_num_cols)\n",
    "num_correct = sum(correctness_labels)\n",
    "num_incorrect = len(correctness_labels) - num_correct\n",
    "\n",
    "display(f\"Aantal correct: {num_correct}, aantal incorrect: {num_incorrect}, score: {round(num_correct / len(correctness_labels) * 100, 2)}%\")"
   ]
  }
 ],
 "metadata": {
  "kernelspec": {
   "display_name": "ipass-23-24-fUymLHJK",
   "language": "python",
   "name": "python3"
  },
  "language_info": {
   "codemirror_mode": {
    "name": "ipython",
    "version": 3
   },
   "file_extension": ".py",
   "mimetype": "text/x-python",
   "name": "python",
   "nbconvert_exporter": "python",
   "pygments_lexer": "ipython3",
   "version": "3.12.4"
  }
 },
 "nbformat": 4,
 "nbformat_minor": 2
}
