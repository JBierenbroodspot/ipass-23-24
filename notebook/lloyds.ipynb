{
 "cells": [
  {
   "cell_type": "markdown",
   "metadata": {},
   "source": [
    "# Implementatie van Lloyds algoritme\n",
    "\n",
    "Omdat het originele artikel waarin Lloyds algoritme gepubliceerd is niet over\n",
    "computerwetenschap gaat maar over de elektrotechniek staat er niet echt een\n",
    "duidelijk stuk pseudocode in het artikel. Om deze reden gebruiken we een ander\n",
    "artikel waar Lloyds algoritme ook in beschreven wordt, namelijk Kmeans++\n",
    "<sup>\\[[1](#src2007)\\]</sup>. Hierin worden de stappen als volgt beschreven:\n",
    "\n",
    "1. Kies een willekeurig aantal clustercentra.\n",
    "2. Voor elk clustercentrum, laat alle punten in de dataset wijzen naar het \n",
    "dichtstbijzijnde clustercentrum.\n",
    "3. Verander elk clustercentrum naar de zwaartepunt van alle datapunten die naar\n",
    "dit clustercentrum wijzen.\n",
    "4. Herhaal stappen 2 en 3 totdat er niks meer veranderd."
   ]
  },
  {
   "cell_type": "markdown",
   "metadata": {},
   "source": [
    "## Stap 1"
   ]
  },
  {
   "cell_type": "code",
   "execution_count": 3,
   "metadata": {},
   "outputs": [],
   "source": [
    "import numpy as np\n",
    "import numpy.typing as npt"
   ]
  },
  {
   "cell_type": "code",
   "execution_count": 30,
   "metadata": {},
   "outputs": [],
   "source": [
    "def choose_random_centers(dataset: npt.ArrayLike, num_clusters: int) -> npt.NDArray:\n",
    "    return dataset[np.random.choice(dataset.shape[0], num_clusters, replace=False)]"
   ]
  },
  {
   "cell_type": "code",
   "execution_count": 32,
   "metadata": {},
   "outputs": [
    {
     "data": {
      "text/plain": [
       "array([[1, 4, 6, 1],\n",
       "       [8, 1, 4, 6]])"
      ]
     },
     "execution_count": 32,
     "metadata": {},
     "output_type": "execute_result"
    }
   ],
   "source": [
    "test_set: npt.NDArray = np.array([\n",
    "    [1, 4, 6, 1],\n",
    "    [3, 5, 1, 4],\n",
    "    [1, 5, 0, 1],\n",
    "    [8, 1, 4, 6],\n",
    "    [9, 9, 9, 9],\n",
    "])\n",
    "\n",
    "choose_random_centers(test_set, 2)"
   ]
  },
  {
   "cell_type": "markdown",
   "metadata": {},
   "source": [
    "## Stap 2"
   ]
  },
  {
   "cell_type": "code",
   "execution_count": 39,
   "metadata": {},
   "outputs": [],
   "source": [
    "def get_euclidean_distance[ArrT: npt.ArrayLike](vector_one: ArrT, vector_two: ArrT) -> npt.NDArray:\n",
    "    return np.linalg.norm(vector_one - vector_two)"
   ]
  },
  {
   "cell_type": "code",
   "execution_count": 49,
   "metadata": {},
   "outputs": [
    {
     "name": "stdout",
     "output_type": "stream",
     "text": [
      "Zelf berekende Euclidische afstand:\t 6.244997998398398\n",
      "np.linalg.norm:\t\t\t\t 6.244997998398398\n"
     ]
    }
   ],
   "source": [
    "print(\"Zelf berekende Euclidische afstand:\\t\", np.sqrt((1 - 3)**2 + (4 - 5)**2 + (6 - 1)**2 + (1 - 4)**2))\n",
    "print(\"np.linalg.norm:\\t\\t\\t\\t\", get_euclidean_distance(test_set[0], test_set[1]))"
   ]
  },
  {
   "cell_type": "code",
   "execution_count": 51,
   "metadata": {},
   "outputs": [],
   "source": [
    "def get_matrix_euclidean_distance[ArrT: npt.ArrayLike](matrix: ArrT, vector: ArrT) -> npt.NDArray:\n",
    "    return np.array([get_euclidean_distance(arr, vector) for arr in matrix])"
   ]
  },
  {
   "cell_type": "code",
   "execution_count": 56,
   "metadata": {},
   "outputs": [
    {
     "data": {
      "text/plain": [
       "array([ 6.244998  ,  6.08276253,  9.32737905, 12.72792206])"
      ]
     },
     "execution_count": 56,
     "metadata": {},
     "output_type": "execute_result"
    }
   ],
   "source": [
    "get_matrix_euclidean_distance(test_set[1:,:], test_set[0])"
   ]
  },
  {
   "cell_type": "code",
   "execution_count": 57,
   "metadata": {},
   "outputs": [],
   "source": [
    "def get_closest_cluster_center[ArrT: npt.ArrayLike](matrix: ArrT, centers: ArrT) -> npt.ArrayLike:\n",
    "    return np.array([np.argmin(get_matrix_euclidean_distance(centers, vector)) for vector in matrix])"
   ]
  },
  {
   "cell_type": "code",
   "execution_count": 59,
   "metadata": {},
   "outputs": [
    {
     "name": "stdout",
     "output_type": "stream",
     "text": [
      "[[3 5 1 4]\n",
      " [1 5 0 1]]\n"
     ]
    }
   ],
   "source": [
    "test_centers: npt.NDArray = choose_random_centers(test_set, 2)\n",
    "print(test_centers)"
   ]
  },
  {
   "cell_type": "code",
   "execution_count": 61,
   "metadata": {},
   "outputs": [
    {
     "name": "stdout",
     "output_type": "stream",
     "text": [
      "[1 4 6 1] is het dichtstbij: [1 5 0 1]\n",
      "[3 5 1 4] is het dichtstbij: [3 5 1 4]\n",
      "[1 5 0 1] is het dichtstbij: [1 5 0 1]\n",
      "[8 1 4 6] is het dichtstbij: [3 5 1 4]\n",
      "[9 9 9 9] is het dichtstbij: [3 5 1 4]\n"
     ]
    }
   ],
   "source": [
    "closest_centers: npt.NDArray = get_closest_cluster_center(test_set, test_centers)\n",
    "\n",
    "for i, vector in enumerate(test_set):\n",
    "    print(vector, \"is het dichtstbij:\", test_centers[closest_centers[i]])"
   ]
  },
  {
   "cell_type": "markdown",
   "metadata": {},
   "source": [
    "## Stap 3"
   ]
  },
  {
   "cell_type": "code",
   "execution_count": 64,
   "metadata": {},
   "outputs": [
    {
     "data": {
      "text/plain": [
       "array([6.66666667, 5.        , 4.66666667, 6.33333333])"
      ]
     },
     "execution_count": 64,
     "metadata": {},
     "output_type": "execute_result"
    }
   ],
   "source": [
    "def get_center_of_mass_for_cluster_center[ArrT: npt.ArrayLike](\n",
    "    matrix: ArrT, closest_centers: ArrT, cluster_idx: int\n",
    ") -> npt.NDArray:\n",
    "    mask: npt.NDArray = closest_centers == cluster_idx\n",
    "    return np.average(matrix[mask,:], axis=0)"
   ]
  },
  {
   "cell_type": "code",
   "execution_count": 68,
   "metadata": {},
   "outputs": [],
   "source": [
    "def get_all_center_of_masses[ArrT: npt.ArrayLike](matrix: ArrT, closest_centers: ArrT, num_clusters: int) -> npt.NDArray:\n",
    "    return np.array([\n",
    "        get_center_of_mass_for_cluster_center(matrix, closest_centers, i)\n",
    "        for i\n",
    "        in range(num_clusters)\n",
    "    ])"
   ]
  },
  {
   "cell_type": "code",
   "execution_count": 73,
   "metadata": {},
   "outputs": [
    {
     "name": "stdout",
     "output_type": "stream",
     "text": [
      "[[6.66666667 5.         4.66666667 6.33333333]\n",
      " [1.         4.5        3.         1.        ]]\n"
     ]
    }
   ],
   "source": [
    "new_centers: npt.NDArray = get_all_center_of_masses(test_set, closest_centers, 2)\n",
    "\n",
    "print(new_centers)"
   ]
  },
  {
   "cell_type": "markdown",
   "metadata": {},
   "source": [
    "## Stap 4"
   ]
  },
  {
   "cell_type": "code",
   "execution_count": 107,
   "metadata": {},
   "outputs": [],
   "source": [
    "def run_lloyds(matrix: npt.NDArray, num_clusters: int) -> tuple[npt.NDArray, npt.NDArray]:\n",
    "    cluster_centers: npt.NDArray = choose_random_centers(matrix, num_clusters)\n",
    "    closest_centers: npt.NDArray = get_closest_cluster_center(matrix, cluster_centers)\n",
    "\n",
    "    while not ((new_centers := get_all_center_of_masses(matrix, closest_centers, num_clusters)) == cluster_centers).all():\n",
    "        cluster_centers = new_centers\n",
    "        closest_centers = get_closest_cluster_center(matrix, cluster_centers)\n",
    "\n",
    "    return cluster_centers, closest_centers"
   ]
  },
  {
   "cell_type": "code",
   "execution_count": 108,
   "metadata": {},
   "outputs": [
    {
     "name": "stdout",
     "output_type": "stream",
     "text": [
      "lol\n",
      "lol\n",
      "lol\n"
     ]
    },
    {
     "data": {
      "text/plain": [
       "(array([[1.66666667, 4.66666667, 2.33333333, 2.        ],\n",
       "        [8.5       , 5.        , 6.5       , 7.5       ]]),\n",
       " array([0, 0, 0, 1, 1]))"
      ]
     },
     "execution_count": 108,
     "metadata": {},
     "output_type": "execute_result"
    }
   ],
   "source": [
    "run_lloyds(test_set, 2)\n"
   ]
  },
  {
   "cell_type": "markdown",
   "metadata": {},
   "source": [
    "## Sources\n",
    "\n",
    "<a id=\"src2007\"></a> \\[1\\] Arthur, D., & Vassilvitskii, S. (2007). k-means++: the advantages of careful seeding. Soda, 1027–1035. https://doi.org/10.5555/1283383.1283494"
   ]
  }
 ],
 "metadata": {
  "kernelspec": {
   "display_name": "ipass-23-24-fUymLHJK",
   "language": "python",
   "name": "python3"
  },
  "language_info": {
   "codemirror_mode": {
    "name": "ipython",
    "version": 3
   },
   "file_extension": ".py",
   "mimetype": "text/x-python",
   "name": "python",
   "nbconvert_exporter": "python",
   "pygments_lexer": "ipython3",
   "version": "3.12.3"
  }
 },
 "nbformat": 4,
 "nbformat_minor": 2
}
