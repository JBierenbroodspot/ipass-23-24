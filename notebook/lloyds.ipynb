{
 "cells": [
  {
   "cell_type": "markdown",
   "metadata": {},
   "source": [
    "# Implementatie van Lloyds algoritme\n",
    "\n",
    "- Auteur: Jimmy Bierenbroodspot\n",
    "- Datum: 12 juni 2024\n",
    "- Locatie: Hogeschool Utrecht\n",
    "\n",
    "Omdat het originele artikel waarin Lloyds algoritme gepubliceerd is niet over\n",
    "computerwetenschap gaat maar over de elektrotechniek staat er niet echt een\n",
    "duidelijk stuk pseudocode in het artikel. Om deze reden gebruiken we een ander\n",
    "artikel waar Lloyds algoritme ook in beschreven wordt, namelijk Kmeans++\n",
    "<sup>\\[[1](#src2007)\\]</sup>. Hierin worden de stappen als volgt beschreven:\n",
    "\n",
    "1. Kies een willekeurig aantal clustercentra.\n",
    "2. Voor elk clustercentrum, laat alle punten in de dataset wijzen naar het \n",
    "dichtstbijzijnde clustercentrum.\n",
    "3. Verander elk clustercentrum naar het zwaartepunt van alle datapunten die naar\n",
    "dit clustercentrum wijzen.\n",
    "4. Herhaal stappen 2 en 3 totdat er niks meer veranderd."
   ]
  },
  {
   "cell_type": "markdown",
   "metadata": {},
   "source": [
    "## Stap 1\n",
    "\n",
    "We beginnen met de juiste libraries te importeren. We gebruiken `numpy` vanwege\n",
    "de efficiënte en snelle datastructuren. `numpy.typing` gebruiken we om\n",
    "`numpy` datatypes te annoteren."
   ]
  },
  {
   "cell_type": "code",
   "execution_count": 2,
   "metadata": {},
   "outputs": [],
   "source": [
    "import numpy as np\n",
    "import numpy.typing as npt"
   ]
  },
  {
   "cell_type": "markdown",
   "metadata": {},
   "source": [
    "De eerste stap luidt dat we een aantal willekeurige clustercentra moeten kiezen.\n",
    "Eerst nemen we nemen aan dat er een matrix (of 2-dimensionale lijst) mee wordt\n",
    "gegeven en het aantal clusters dat we willen. met `replace=False` geven we aan\n",
    "dat we geen duplicaten willen."
   ]
  },
  {
   "cell_type": "code",
   "execution_count": 3,
   "metadata": {},
   "outputs": [],
   "source": [
    "def choose_random_centers(dataset: npt.ArrayLike, num_clusters: int) -> npt.NDArray:\n",
    "    return dataset[np.random.choice(dataset.shape[0], num_clusters, replace=False)]"
   ]
  },
  {
   "cell_type": "markdown",
   "metadata": {},
   "source": [
    "Hieronder zullen we een kleine dataset aanmaken en testen de aangemaakte functie\n",
    "hierop."
   ]
  },
  {
   "cell_type": "code",
   "execution_count": 23,
   "metadata": {},
   "outputs": [
    {
     "data": {
      "text/plain": [
       "array([[8, 1, 4, 6],\n",
       "       [3, 5, 1, 4]])"
      ]
     },
     "execution_count": 23,
     "metadata": {},
     "output_type": "execute_result"
    }
   ],
   "source": [
    "test_set: npt.NDArray = np.array([\n",
    "    [1, 4, 6, 1],\n",
    "    [3, 5, 1, 4],\n",
    "    [1, 5, 0, 1],\n",
    "    [8, 1, 4, 6],\n",
    "    [9, 9, 9, 9],\n",
    "])\n",
    "\n",
    "choose_random_centers(test_set, 2)"
   ]
  },
  {
   "cell_type": "markdown",
   "metadata": {},
   "source": [
    "Als we deze functie meerdere keren draaien zien we dat er inderdaad twee\n",
    "willekeurige arrays uit de dataset worden gekozen."
   ]
  },
  {
   "cell_type": "markdown",
   "metadata": {},
   "source": [
    "## Stap 2\n",
    "\n",
    "De tweede stap hebben we beschreven als:\n",
    "\n",
    "> Voor elk clustercentrum, laat alle punten in de dataset wijzen naar het \n",
    "dichtstbijzijnde clustercentrum.\n",
    "\n",
    "Dit gaan we interpreteren als het aanmaken van een nieuwe lijst met evenveel\n",
    "elementen als rijen in de dataset. Elk element is een nummer dat wijst naar\n",
    "de index in een lijst van clustercentra van de dichtstbijzijnde clustercentrum.\n",
    "Lloyd gebruikt de Euclidische afstand in zijn algoritme\n",
    "<sup>\\[[2](#src1982)\\]</sup> dus dat zullen wij ook gebruiken."
   ]
  },
  {
   "cell_type": "code",
   "execution_count": 5,
   "metadata": {},
   "outputs": [],
   "source": [
    "def get_euclidean_distance[ArrT: npt.ArrayLike](vector_one: ArrT, vector_two: ArrT) -> npt.NDArray:\n",
    "    return np.linalg.norm(vector_one - vector_two)"
   ]
  },
  {
   "cell_type": "markdown",
   "metadata": {},
   "source": [
    "`numpy` heeft de functie `numpy.linalg.norm` die de Euclidische afstand voor een\n",
    "n-dimensionale reeks kan berekenen. Hieronder berekenen we ook handmatig de\n",
    "Euclidische afstand om dubbel te checken dat deze functie inderdaad doet wat we\n",
    "willen."
   ]
  },
  {
   "cell_type": "code",
   "execution_count": 6,
   "metadata": {},
   "outputs": [
    {
     "name": "stdout",
     "output_type": "stream",
     "text": [
      "Zelf berekende Euclidische afstand:\t 6.244997998398398\n",
      "np.linalg.norm:\t\t\t\t 6.244997998398398\n"
     ]
    }
   ],
   "source": [
    "print(\"Zelf berekende Euclidische afstand:\\t\", np.sqrt((1 - 3)**2 + (4 - 5)**2 + (6 - 1)**2 + (1 - 4)**2))\n",
    "print(\"np.linalg.norm:\\t\\t\\t\\t\", get_euclidean_distance(test_set[0], test_set[1]))"
   ]
  },
  {
   "cell_type": "markdown",
   "metadata": {},
   "source": [
    "Om te bepalen welk clustercentrum het dichtstbij een punt zit moeten we alle\n",
    "afstanden in de dataset tegenover alle clustercentra berekenen. Hiervoor maken\n",
    "we een functie die een matrix en een vector als argumenten neemt en de \n",
    "Euclidische afstand voor elke vector in de matrix tegenover de vector argument\n",
    "berekent. Het resultaat wordt in een nieuwe reeks teruggegeven, waar de index\n",
    "van elke afstand overeenkomt met de index van het element in de dataset die\n",
    "gebruikt is voor het berekenen van die afstand."
   ]
  },
  {
   "cell_type": "code",
   "execution_count": 7,
   "metadata": {},
   "outputs": [],
   "source": [
    "def get_matrix_euclidean_distance[ArrT: npt.ArrayLike](matrix: ArrT, vector: ArrT) -> npt.NDArray:\n",
    "    return np.array([get_euclidean_distance(arr, vector) for arr in matrix])"
   ]
  },
  {
   "cell_type": "markdown",
   "metadata": {},
   "source": [
    "Hieronder itereren we over elke afstand en nemen we de element uit de dataset\n",
    "met dezelfde index en zien we dat de elementen met de afstand 0.0 inderdaad\n",
    "dezelfde elementen zijn."
   ]
  },
  {
   "cell_type": "code",
   "execution_count": 25,
   "metadata": {},
   "outputs": [
    {
     "name": "stdout",
     "output_type": "stream",
     "text": [
      "De Euclidische afstand tussen [1 4 6 1] en [1 4 6 1] is: 0.0\n",
      "De Euclidische afstand tussen [3 5 1 4] en [1 4 6 1] is: 6.244997998398398\n",
      "De Euclidische afstand tussen [1 5 0 1] en [1 4 6 1] is: 6.082762530298219\n",
      "De Euclidische afstand tussen [8 1 4 6] en [1 4 6 1] is: 9.327379053088816\n",
      "De Euclidische afstand tussen [9 9 9 9] en [1 4 6 1] is: 12.727922061357855\n"
     ]
    }
   ],
   "source": [
    "for i, distance in enumerate(get_matrix_euclidean_distance(test_set, test_set[0])):\n",
    "    print(\"De Euclidische afstand tussen\", test_set[i], \"en\", test_set[0], \"is:\", distance)"
   ]
  },
  {
   "cell_type": "markdown",
   "metadata": {},
   "source": [
    "Uiteindelijk maken we de functie beschreven in het begin van dit hoofdstuk. We\n",
    "doen dit door over elke vector in de matrix te itereren, de afstand te berekenen\n",
    "en de index van de kleinste afstand te berekenen."
   ]
  },
  {
   "cell_type": "code",
   "execution_count": 9,
   "metadata": {},
   "outputs": [],
   "source": [
    "def get_closest_cluster_center[ArrT: npt.ArrayLike](matrix: ArrT, centers: ArrT) -> npt.ArrayLike:\n",
    "    return np.array([np.argmin(get_matrix_euclidean_distance(centers, vector)) for vector in matrix])"
   ]
  },
  {
   "cell_type": "markdown",
   "metadata": {},
   "source": [
    "Om te testen of deze functie werkt kunnen we de eerder gemaakte functie\n",
    "gebruiken om twee willekeurige clustercentra te kiezen."
   ]
  },
  {
   "cell_type": "code",
   "execution_count": 30,
   "metadata": {},
   "outputs": [
    {
     "name": "stdout",
     "output_type": "stream",
     "text": [
      "De gekozen clustercentra:\n",
      "[1 5 0 1]\n",
      "[9 9 9 9]\n"
     ]
    }
   ],
   "source": [
    "test_centers: npt.NDArray = choose_random_centers(test_set, 2)\n",
    "print(\"De gekozen clustercentra:\")\n",
    "for center in test_centers:\n",
    "    print(center)"
   ]
  },
  {
   "cell_type": "markdown",
   "metadata": {},
   "source": [
    "Uiteindelijk voeren we deze functie uit."
   ]
  },
  {
   "cell_type": "code",
   "execution_count": 11,
   "metadata": {},
   "outputs": [
    {
     "name": "stdout",
     "output_type": "stream",
     "text": [
      "[1 4 6 1] is het dichtstbij: [1 4 6 1]\n",
      "[3 5 1 4] is het dichtstbij: [3 5 1 4]\n",
      "[1 5 0 1] is het dichtstbij: [3 5 1 4]\n",
      "[8 1 4 6] is het dichtstbij: [3 5 1 4]\n",
      "[9 9 9 9] is het dichtstbij: [3 5 1 4]\n"
     ]
    }
   ],
   "source": [
    "closest_centers: npt.NDArray = get_closest_cluster_center(test_set, test_centers)\n",
    "\n",
    "for i, vector in enumerate(test_set):\n",
    "    print(vector, \"is het dichtstbij:\", test_centers[closest_centers[i]])"
   ]
  },
  {
   "cell_type": "markdown",
   "metadata": {},
   "source": [
    "## Stap 3\n",
    "\n",
    "Voor de derde stap moeten we elk clustercentrum veranderen naar het zwaartepunt\n",
    "van alle elementen die naar dit clustercentrum wijzen. Wat we hiermee bedoelen\n",
    "is dat elk clustercentrum het gemiddelde van alle elementen die het dichtstbij\n",
    "dat clustercentrum zit.\n",
    "\n",
    "We doen dit door eerst een boolean mask te maken, oftewel een reeks aan `True`\n",
    "of `False` waar dit `True` is als het element aan een bepaalde conditie voldoet.\n",
    "Omdat de reeks met dichtstbijzijnde clustercentra even lang is als de dataset\n",
    "kunnen we checken of de index de huidige index is en als we deze mask toepassen\n",
    "op de dataset krijgen we alleen de elementen terug die het dichtstbij zitten."
   ]
  },
  {
   "cell_type": "code",
   "execution_count": 12,
   "metadata": {},
   "outputs": [],
   "source": [
    "def get_center_of_mass_for_cluster_center[ArrT: npt.ArrayLike](\n",
    "    matrix: ArrT, closest_centers: ArrT, cluster_idx: int\n",
    ") -> npt.NDArray:\n",
    "    mask: npt.NDArray = closest_centers == cluster_idx\n",
    "    return np.average(matrix[mask,:], axis=0)"
   ]
  },
  {
   "cell_type": "markdown",
   "metadata": {},
   "source": [
    "De volgende functie doet dit voor een matrix met clustercentra."
   ]
  },
  {
   "cell_type": "code",
   "execution_count": 13,
   "metadata": {},
   "outputs": [],
   "source": [
    "def get_all_center_of_masses[ArrT: npt.ArrayLike](matrix: ArrT, closest_centers: ArrT, num_clusters: int) -> npt.NDArray:\n",
    "    return np.array([\n",
    "        get_center_of_mass_for_cluster_center(matrix, closest_centers, i)\n",
    "        for i\n",
    "        in range(num_clusters)\n",
    "    ])"
   ]
  },
  {
   "cell_type": "markdown",
   "metadata": {},
   "source": [
    "Het resultaat is als volgt:"
   ]
  },
  {
   "cell_type": "code",
   "execution_count": 31,
   "metadata": {},
   "outputs": [
    {
     "name": "stdout",
     "output_type": "stream",
     "text": [
      "Oude clustercentra:\n",
      " [[1 5 0 1]\n",
      " [9 9 9 9]]\n",
      "Nieuwe clustercentra:\n",
      " [[1.   4.   6.   1.  ]\n",
      " [5.25 5.   3.5  5.  ]]\n"
     ]
    }
   ],
   "source": [
    "new_centers: npt.NDArray = get_all_center_of_masses(test_set, closest_centers, 2)\n",
    "\n",
    "print(\"Oude clustercentra:\\n\", test_centers)\n",
    "print(\"Nieuwe clustercentra:\\n\", new_centers)"
   ]
  },
  {
   "cell_type": "markdown",
   "metadata": {},
   "source": [
    "## Stap 4\n",
    "\n",
    "De laatste stap is de vorige twee stappen uitvoeren totdat de clustercentra niet\n",
    "meer veranderen. We beginnen door stap 1 uit te voeren en de centra te kiezen.\n",
    "Vervolgens voeren we stap 2 uit en berekenen we de reeks met welke centra het \n",
    "dichtstbij elk element in de matrix zitten.\n",
    "\n",
    "De `while`-loop in deze functie is zeer complex maar kan gelezen worden als\n",
    "volgt:\n",
    "\n",
    "1. We maken de variabele `new_centers` aan en geven die de waarde van \n",
    "`get_all_center_of_masses(matrix, closest_centers, num_clusters)`. Dit is in\n",
    "essentie stap 3.\n",
    "2. Omdat we de walrus-operator (`:=`) gebruiken geeft alles binnen de haakjes\n",
    "dezelfde waarde terug als de variabele die we hierbinnen aanmaken. We\n",
    "vergelijken dus of de nieuwe centra gelijk zijn aan de oude centra.\n",
    "3. Omdat beide reeksen `numpy` reeksen zijn wordt het resultaat van de vorige \n",
    "stap een `numpy` reeks met `True` of `False` op basis van de conditie. Met\n",
    "`.all()` checken we of alle waarde in deze reeks `True` zijn.\n",
    "\n",
    "Zo lang de twee reeksen niet hetzelfde zijn worden de oude reeksen aangepast\n",
    "naar de nieuwe reeksen."
   ]
  },
  {
   "cell_type": "code",
   "execution_count": 15,
   "metadata": {},
   "outputs": [],
   "source": [
    "def run_lloyds(matrix: npt.NDArray, num_clusters: int) -> tuple[npt.NDArray, npt.NDArray]:\n",
    "    cluster_centers: npt.NDArray = choose_random_centers(matrix, num_clusters)\n",
    "    closest_centers: npt.NDArray = get_closest_cluster_center(matrix, cluster_centers)\n",
    "\n",
    "    while not ((new_centers := get_all_center_of_masses(matrix, closest_centers, num_clusters)) == cluster_centers).all():\n",
    "        cluster_centers = new_centers\n",
    "        closest_centers = get_closest_cluster_center(matrix, cluster_centers)\n",
    "\n",
    "    return cluster_centers, closest_centers"
   ]
  },
  {
   "cell_type": "markdown",
   "metadata": {},
   "source": [
    "### Leuk feitje\n",
    "\n",
    "Omdat alle functies die gebruikt worden voor dit algoritme een enkele regel zijn\n",
    "is het mogelijk om Lloyds algoritme in 4 regels uit te voeren:\n",
    "\n",
    "1. Voor het aanmaken van de eerste clustercentra, dit kan in een regel d.m.v. \n",
    "een komma.\n",
    "2. De `while`-loop.\n",
    "3. Het veranderen van de nieuwe variabelen kan ook op een regel.\n",
    "4. De `return`-statement.\n",
    "\n",
    "Dit zou natuurlijk onleesbaar zijn maar leuk voor code-golfing!"
   ]
  },
  {
   "cell_type": "markdown",
   "metadata": {},
   "source": [
    "Uiteindelijk kunnen we de gemaakte algoritme uitvoeren:"
   ]
  },
  {
   "cell_type": "code",
   "execution_count": 16,
   "metadata": {},
   "outputs": [
    {
     "data": {
      "text/plain": [
       "(array([[3.25, 3.75, 2.75, 3.  ],\n",
       "        [9.  , 9.  , 9.  , 9.  ]]),\n",
       " array([0, 0, 0, 0, 1]))"
      ]
     },
     "execution_count": 16,
     "metadata": {},
     "output_type": "execute_result"
    }
   ],
   "source": [
    "run_lloyds(test_set, 2)"
   ]
  },
  {
   "cell_type": "markdown",
   "metadata": {},
   "source": [
    "## Vervolg\n",
    "\n",
    "Het zou netjes zijn de code nog te testen maar de vorm van de algoritme zoals\n",
    "het nu is, is nog niet schaalbaar dus we zouden hier nog wat aan willen doen.\n",
    "Het algoritme zoals die zich in deze notebook bevind is er puur voor het\n",
    "demonstreren hoe het algoritme is opgebouwd. Tests zullen elders uitgevoerd\n",
    "worden."
   ]
  },
  {
   "cell_type": "markdown",
   "metadata": {},
   "source": [
    "## Sources\n",
    "\n",
    "<a id=\"src2007\"></a> \\[1\\] Arthur, D., & Vassilvitskii, S. (2007). k-means++: the advantages of careful seeding. Soda, 1027–1035. https://doi.org/10.5555/1283383.1283494\n",
    "\n",
    "<a id=\"src1982\"></a> \\[2\\] Lloyd, S. (1982). Least squares quantization in PCM. IEEE Transactions on Information Theory, 28(2), 129–137. https://doi.org/10.1109/tit.1982.1056489"
   ]
  }
 ],
 "metadata": {
  "kernelspec": {
   "display_name": "ipass-23-24-fUymLHJK",
   "language": "python",
   "name": "python3"
  },
  "language_info": {
   "codemirror_mode": {
    "name": "ipython",
    "version": 3
   },
   "file_extension": ".py",
   "mimetype": "text/x-python",
   "name": "python",
   "nbconvert_exporter": "python",
   "pygments_lexer": "ipython3",
   "version": "3.12.3"
  }
 },
 "nbformat": 4,
 "nbformat_minor": 2
}
