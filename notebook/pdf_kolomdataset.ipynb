{
 "cells": [
  {
   "cell_type": "code",
   "execution_count": 14,
   "metadata": {},
   "outputs": [
    {
     "name": "stdout",
     "output_type": "stream",
     "text": [
      "Er zitten 116 .pdf-bestanden in /home/jimmy/school/jaar-1/blok-d/ipass-23-24/data/cv_pdf\n"
     ]
    }
   ],
   "source": [
    "import pathlib\n",
    "\n",
    "pdf_path: pathlib.Path = pathlib.Path(\"../data/cv_pdf\").resolve()\n",
    "num_pdf: int = len(list(pdf_path.glob(\"*.pdf\")))\n",
    "\n",
    "print(\"Er zitten\", num_pdf, \".pdf-bestanden in\", str(pdf_path))"
   ]
  },
  {
   "cell_type": "code",
   "execution_count": 16,
   "metadata": {},
   "outputs": [],
   "source": [
    "from IPython.core import getipython\n",
    "\n",
    "execution_count: int = 0\n",
    "pdf_file: pathlib.Path\n",
    "index: int\n",
    "\n",
    "# Get execution count of this cell to prevent half of the files being purged\n",
    "# upon rerun.\n",
    "ipython = getipython.get_ipython()\n",
    "if ipython:\n",
    "    execution_count = ipython.execution_count\n",
    "\n",
    "for index, pdf_file in enumerate(pdf_path.glob(\"*.pdf\")):\n",
    "    pdf_file.rename(pdf_file.with_stem(f\"cv-{index + 1}-{execution_count}\"))"
   ]
  },
  {
   "cell_type": "code",
   "execution_count": null,
   "metadata": {},
   "outputs": [],
   "source": [
    "dataset: list[tuple[str, int]] = []"
   ]
  }
 ],
 "metadata": {
  "kernelspec": {
   "display_name": "ipass-23-24-fUymLHJK",
   "language": "python",
   "name": "python3"
  },
  "language_info": {
   "codemirror_mode": {
    "name": "ipython",
    "version": 3
   },
   "file_extension": ".py",
   "mimetype": "text/x-python",
   "name": "python",
   "nbconvert_exporter": "python",
   "pygments_lexer": "ipython3",
   "version": "3.12.3"
  }
 },
 "nbformat": 4,
 "nbformat_minor": 2
}
