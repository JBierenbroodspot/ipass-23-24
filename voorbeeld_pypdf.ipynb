{
 "cells": [
  {
   "cell_type": "code",
   "execution_count": 29,
   "metadata": {},
   "outputs": [],
   "source": [
    "import pathlib\n",
    "\n",
    "import pypdf"
   ]
  },
  {
   "cell_type": "code",
   "execution_count": 30,
   "metadata": {},
   "outputs": [
    {
     "name": "stdout",
     "output_type": "stream",
     "text": [
      "Path naar CV: pdf/voorbeeld_aicv_cv.pdf\n"
     ]
    }
   ],
   "source": [
    "voorbeeld_cv: pathlib.Path = pathlib.Path(\"./pdf/voorbeeld_aicv_cv.pdf\")\n",
    "\n",
    "print(\"Path naar CV:\", str(voorbeeld_cv))"
   ]
  },
  {
   "cell_type": "code",
   "execution_count": 31,
   "metadata": {},
   "outputs": [
    {
     "data": {
      "text/html": [
       "\n",
       "        <iframe\n",
       "            width=\"600\"\n",
       "            height=\"1200\"\n",
       "            src=\"pdf/voorbeeld_aicv_cv.pdf\"\n",
       "            frameborder=\"0\"\n",
       "            allowfullscreen\n",
       "            \n",
       "        ></iframe>\n",
       "        "
      ],
      "text/plain": [
       "<IPython.lib.display.IFrame at 0x7264981426c0>"
      ]
     },
     "execution_count": 31,
     "metadata": {},
     "output_type": "execute_result"
    }
   ],
   "source": [
    "from IPython.display import IFrame\n",
    "\n",
    "IFrame(str(voorbeeld_cv), width=600, height=1200)"
   ]
  },
  {
   "cell_type": "code",
   "execution_count": 32,
   "metadata": {},
   "outputs": [],
   "source": [
    "pdf_reader: pypdf.PdfReader = pypdf.PdfReader(voorbeeld_cv)\n",
    "pdf_page: pypdf.PageObject = pdf_reader.pages[0]"
   ]
  },
  {
   "cell_type": "code",
   "execution_count": 33,
   "metadata": {},
   "outputs": [
    {
     "name": "stdout",
     "output_type": "stream",
     "text": [
      "Regio [WOONPLAATS] \n",
      "DRIVE\n",
      "[TEKST DRIVE - MIDDEN KOLOM\n",
      "1 GEPOSITIONEERD]\n",
      "KUNDE\n",
      "MOGELIJKHEDEN\n",
      "[TEKST MOGELIJKHEDEN - MIDDEN\n",
      "KOLOM 1 GEPOSITIONEERD]OPLEIDING\n",
      "Contactgegevens kandidaatERVARING\n",
      "Student | startmaand startjaar - eindmaand eindjaarDRIE TREFWOORDEN +\n",
      "PERSOONSOMSCHRIJVING Functietitel + bij + Bedrijf\n",
      "[TEKST KUNDE - MIDDEN KOLOM\n",
      "1 GEPOSITIONEERD]Titel opleiding + opleidinginstituut\n",
      "[optionele uitleg studie][Meest effectieve zin van het hele CV, kort, krachtig, heel\n",
      "erg passend bij de vacature.]\n",
      "Functietiel + bij + Bedrijfstartmaand startjaar - eindmaand eindjaar\n",
      "[Optionele uitleg van ervaring en ontwikkeling]\n",
      "Student | startmaand startjaar - eindmaand eindjaarTitel opleiding + opleidinginstituut\n",
      "[optionele uitleg studie]startmaand startjaar - eindmaand eindjaar\n"
     ]
    }
   ],
   "source": [
    "print(pdf_page.extract_text())"
   ]
  },
  {
   "cell_type": "code",
   "execution_count": 40,
   "metadata": {},
   "outputs": [
    {
     "name": "stdout",
     "output_type": "stream",
     "text": [
      "          DRIE TREFWOORDEN +                                                                        ERVARING\n",
      "    PERSOONSOMSCHRIJVING                                                                            F   u   n   ctietitel + b   ij + Bed   rijf\n",
      "               Re   g   io    [WOONPL   AATS]                                                       sta   rtma   a   n   d    sta   rtja   a   r - e   in   d   ma   a   n   d    e   in   d   ja   a   r\n",
      "                                                                                                    [Me   e   st e   ffe   ctie   ve    zin    va   n    h   e   t h   e   le    CV, ko   rt, kra   ch   tig   , h   e   e   l\n",
      "                                                                                                    e   rg    p   a   sse   n   d    b   ij d   e    va   ca   tu   re   .]\n",
      "                                 DRI   VE                                                           F   u   n   ctietiel + b   ij + Bed   rijf\n",
      "    [TEKST DRIVE - MIDDEN KOL   OM                                                                  sta   rtma   a   n   d    sta   rtja   a   r - e   in   d   ma   a   n   d    e   in   d   ja   a   r\n",
      "                  1    GEPOSITIONEERD]                                                              [Op   tio   n   e   le    u   itle   g    va   n    e   rva   rin   g    e   n    o   n   twikke   lin   g   ]\n",
      "                                KUNDE                                                               OPL   EIDING\n",
      "   [TEKST KUNDE - MIDDEN KOL   OM                                                                   T   itel o   p   leid   in   g    + o   p   leid   in   g   in   stitu   u   t\n",
      "                  1    GEPOSITIONEERD]                                                              Stu   d   e   n   t | sta   rtma   a   n   d    sta   rtja   a   r - e   in   d   ma   a   n   d    e   in   d   ja   a   r\n",
      "                                                                                                    [o   p   tio   n   e   le    u   itle   g    stu   d   ie   ]\n",
      "                 MOGEL   IJKHEDEN                                                                   T   itel o   p   leid   in   g    + o   p   leid   in   g   in   stitu   u   t\n",
      "                                                                                                    Stu   d   e   n   t | sta   rtma   a   n   d    sta   rtja   a   r - e   in   d   ma   a   n   d    e   in   d   ja   a   r\n",
      "[TEKST MOGEL   IJKHEDEN - MIDDEN                                                                    [o   p   tio   n   e   le    u   itle   g    stu   d   ie   ]\n",
      "       KOL   OM 1    GEPOSITIONEERD]\n",
      "                                                                                                    Co   n   ta   ctg   e   g   e   ve   n   s ka   n   d   id   a   a   t\n"
     ]
    }
   ],
   "source": [
    "print(pdf_page.extract_text(extraction_mode=\"layout\", layout_mode_space_vertically=False))"
   ]
  }
 ],
 "metadata": {
  "kernelspec": {
   "display_name": "ipass-23-24-fUymLHJK",
   "language": "python",
   "name": "python3"
  },
  "language_info": {
   "codemirror_mode": {
    "name": "ipython",
    "version": 3
   },
   "file_extension": ".py",
   "mimetype": "text/x-python",
   "name": "python",
   "nbconvert_exporter": "python",
   "pygments_lexer": "ipython3",
   "version": "3.12.3"
  }
 },
 "nbformat": 4,
 "nbformat_minor": 2
}
